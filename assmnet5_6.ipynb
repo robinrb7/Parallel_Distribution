{
  "nbformat": 4,
  "nbformat_minor": 0,
  "metadata": {
    "colab": {
      "provenance": [],
      "gpuType": "T4",
      "authorship_tag": "ABX9TyN8Uxfq80xKBb3AVkMn2trc",
      "include_colab_link": true
    },
    "kernelspec": {
      "name": "python3",
      "display_name": "Python 3"
    },
    "language_info": {
      "name": "python"
    },
    "accelerator": "GPU"
  },
  "cells": [
    {
      "cell_type": "markdown",
      "metadata": {
        "id": "view-in-github",
        "colab_type": "text"
      },
      "source": [
        "<a href=\"https://colab.research.google.com/github/robinrb7/Parallel_Distribution/blob/main/assmnet5_6.ipynb\" target=\"_parent\"><img src=\"https://colab.research.google.com/assets/colab-badge.svg\" alt=\"Open In Colab\"/></a>"
      ]
    },
    {
      "cell_type": "code",
      "execution_count": 1,
      "metadata": {
        "colab": {
          "base_uri": "https://localhost:8080/"
        },
        "id": "KxorGgtYDgcE",
        "outputId": "53e17237-b3e5-4d99-c37b-0102175d9f14"
      },
      "outputs": [
        {
          "output_type": "stream",
          "name": "stdout",
          "text": [
            "Archive:  parallel_assignment-main.zip\n",
            "4d3ca1cf8f409f8fd87b09e5e8212d403b63348a\n",
            "   creating: project_folder/parallel_assignment-main/\n",
            "  inflating: project_folder/parallel_assignment-main/assignment1_allques_README.md  \n",
            "  inflating: project_folder/parallel_assignment-main/assignment2 _q1.cpp  \n",
            "  inflating: project_folder/parallel_assignment-main/assignment2_q1_README.md  \n",
            "  inflating: project_folder/parallel_assignment-main/assignment2_q2.cpp  \n",
            "  inflating: project_folder/parallel_assignment-main/assignment2_q2_README.md  \n",
            "  inflating: project_folder/parallel_assignment-main/assignment2_q3.cpp  \n",
            "  inflating: project_folder/parallel_assignment-main/assignment2_q3_README.md  \n",
            "  inflating: project_folder/parallel_assignment-main/assignment2_q4.cpp  \n",
            "  inflating: project_folder/parallel_assignment-main/assignment2_q4_README.md  \n",
            "  inflating: project_folder/parallel_assignment-main/assignment2_q5.cpp  \n",
            "  inflating: project_folder/parallel_assignment-main/assignment2_q5_README.md  \n",
            "  inflating: project_folder/parallel_assignment-main/assignment2_q6.cpp  \n",
            "  inflating: project_folder/parallel_assignment-main/assignment2_q6_README.md  \n",
            "  inflating: project_folder/parallel_assignment-main/assignment2_q7.cpp  \n",
            "  inflating: project_folder/parallel_assignment-main/assignment2_q7_README.md  \n",
            "  inflating: project_folder/parallel_assignment-main/assignment2_q8.cpp  \n",
            "  inflating: project_folder/parallel_assignment-main/assignment2_q8_README.md  \n",
            "  inflating: project_folder/parallel_assignment-main/assignment3_q1.cpp  \n",
            "  inflating: project_folder/parallel_assignment-main/assignment3_q1_README.md  \n",
            "  inflating: project_folder/parallel_assignment-main/assignment3_q2.cpp  \n",
            "  inflating: project_folder/parallel_assignment-main/assignment3_q2_README.md  \n",
            "  inflating: project_folder/parallel_assignment-main/assignment3_q3.cpp  \n",
            "  inflating: project_folder/parallel_assignment-main/assignment3_q3_README.md  \n",
            "  inflating: project_folder/parallel_assignment-main/assignment4_question1.cpp  \n",
            "  inflating: project_folder/parallel_assignment-main/assignment4_question1README.md  \n",
            "  inflating: project_folder/parallel_assignment-main/assignment4_question2.cpp  \n",
            "  inflating: project_folder/parallel_assignment-main/assignment4_question2README.md  \n",
            "  inflating: project_folder/parallel_assignment-main/assignment5_question1.cpp  \n",
            "  inflating: project_folder/parallel_assignment-main/assignment5_question1README.md  \n",
            "  inflating: project_folder/parallel_assignment-main/assignment6_question1.cpp  \n",
            "  inflating: project_folder/parallel_assignment-main/assignment6_question2.cpp  \n",
            "  inflating: project_folder/parallel_assignment-main/assignment6_question2README.md  \n",
            "  inflating: project_folder/parallel_assignment-main/assignment6_question3.cpp  \n",
            "  inflating: project_folder/parallel_assignment-main/assignment6_question3README.md  \n",
            "  inflating: project_folder/parallel_assignment-main/assignment6_question6README.md  \n",
            "  inflating: project_folder/parallel_assignment-main/assignment_1_allques.cpp  \n"
          ]
        }
      ],
      "source": [
        "!unzip parallel_assignment-main.zip -d project_folder\n"
      ]
    },
    {
      "cell_type": "code",
      "source": [],
      "metadata": {
        "id": "i0xgxzMIEBzJ"
      },
      "execution_count": null,
      "outputs": []
    }
  ]
}